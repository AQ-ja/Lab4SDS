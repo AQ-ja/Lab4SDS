{
  "cells": [
    {
      "cell_type": "markdown",
      "metadata": {
        "id": "Ujk1yWcVKnRg"
      },
      "source": [
        "# FAMILIAS DE MALWARE\n",
        "Alfredo Quezada - 191002\n",
        "Randy Venegas - 18341\n",
        "\n",
        "La primera parte de este laboratorio se basa en el analisis y creacion de un dataset que cuente con los datos obtenido por parte de los Malwares. \n",
        "\n",
        "### Parte 1:\n",
        "##### Creacion del Dataset\n"
      ]
    },
    {
      "cell_type": "code",
      "execution_count": 1,
      "metadata": {
        "colab": {
          "base_uri": "https://localhost:8080/",
          "height": 224
        },
        "id": "a3vZQFUvKnRi",
        "outputId": "b566031f-7c01-4642-a9af-b3f81e02213f"
      },
      "outputs": [
        {
          "output_type": "stream",
          "name": "stdout",
          "text": [
            "(40, 4)\n"
          ]
        },
        {
          "output_type": "execute_result",
          "data": {
            "text/plain": [
              "                                 Filename  \\\n",
              "32   JH78C0A33A1B472A8C16123FD696A5CE5EBB   \n",
              "27       650A6FCA433EE243391E4B4C11F09438   \n",
              "20  EEE99EC8AA67B05407C01094184C33D2B5A44   \n",
              "10   L11_1415EB8519D13328091CC5C76A624E3D   \n",
              "38    K99_C3A9A7B026BFE0E55FF219FD6AA7D94   \n",
              "\n",
              "                                            PEHeader  \\\n",
              "32  {'ImageBase': 4194304, 'SectionAlignment': 4096}   \n",
              "27  {'ImageBase': 4194304, 'SectionAlignment': 4096}   \n",
              "20  {'ImageBase': 4194304, 'SectionAlignment': 4096}   \n",
              "10  {'ImageBase': 4194304, 'SectionAlignment': 4096}   \n",
              "38  {'ImageBase': 4194304, 'SectionAlignment': 4096}   \n",
              "\n",
              "                                             Sections  \\\n",
              "32  [{'Name': 'UPX0', 'VirtualAddress': '0x1000'},...   \n",
              "27  [{'Name': 'UPX0', 'VirtualAddress': '0x1000'},...   \n",
              "20  [{'Name': 'UPX0', 'VirtualAddress': '0x1000'},...   \n",
              "10  [{'Name': 'UPX0', 'VirtualAddress': '0x1000'},...   \n",
              "38  [{'Name': '.text', 'VirtualAddress': '0x1000'}...   \n",
              "\n",
              "                                              Imports  \n",
              "32  [{'DLL': 'KERNEL32.DLL', 'Functions': ['LoadLi...  \n",
              "27  [{'DLL': 'KERNEL32.DLL', 'Functions': ['LoadLi...  \n",
              "20  [{'DLL': 'KERNEL32.DLL', 'Functions': ['LoadLi...  \n",
              "10  [{'DLL': 'KERNEL32.DLL', 'Functions': ['LoadLi...  \n",
              "38  [{'DLL': 'KERNEL32.dll', 'Functions': ['Create...  "
            ],
            "text/html": [
              "\n",
              "  <div id=\"df-06182801-033f-420b-bbe9-88e3c89c3ada\">\n",
              "    <div class=\"colab-df-container\">\n",
              "      <div>\n",
              "<style scoped>\n",
              "    .dataframe tbody tr th:only-of-type {\n",
              "        vertical-align: middle;\n",
              "    }\n",
              "\n",
              "    .dataframe tbody tr th {\n",
              "        vertical-align: top;\n",
              "    }\n",
              "\n",
              "    .dataframe thead th {\n",
              "        text-align: right;\n",
              "    }\n",
              "</style>\n",
              "<table border=\"1\" class=\"dataframe\">\n",
              "  <thead>\n",
              "    <tr style=\"text-align: right;\">\n",
              "      <th></th>\n",
              "      <th>Filename</th>\n",
              "      <th>PEHeader</th>\n",
              "      <th>Sections</th>\n",
              "      <th>Imports</th>\n",
              "    </tr>\n",
              "  </thead>\n",
              "  <tbody>\n",
              "    <tr>\n",
              "      <th>32</th>\n",
              "      <td>JH78C0A33A1B472A8C16123FD696A5CE5EBB</td>\n",
              "      <td>{'ImageBase': 4194304, 'SectionAlignment': 4096}</td>\n",
              "      <td>[{'Name': 'UPX0', 'VirtualAddress': '0x1000'},...</td>\n",
              "      <td>[{'DLL': 'KERNEL32.DLL', 'Functions': ['LoadLi...</td>\n",
              "    </tr>\n",
              "    <tr>\n",
              "      <th>27</th>\n",
              "      <td>650A6FCA433EE243391E4B4C11F09438</td>\n",
              "      <td>{'ImageBase': 4194304, 'SectionAlignment': 4096}</td>\n",
              "      <td>[{'Name': 'UPX0', 'VirtualAddress': '0x1000'},...</td>\n",
              "      <td>[{'DLL': 'KERNEL32.DLL', 'Functions': ['LoadLi...</td>\n",
              "    </tr>\n",
              "    <tr>\n",
              "      <th>20</th>\n",
              "      <td>EEE99EC8AA67B05407C01094184C33D2B5A44</td>\n",
              "      <td>{'ImageBase': 4194304, 'SectionAlignment': 4096}</td>\n",
              "      <td>[{'Name': 'UPX0', 'VirtualAddress': '0x1000'},...</td>\n",
              "      <td>[{'DLL': 'KERNEL32.DLL', 'Functions': ['LoadLi...</td>\n",
              "    </tr>\n",
              "    <tr>\n",
              "      <th>10</th>\n",
              "      <td>L11_1415EB8519D13328091CC5C76A624E3D</td>\n",
              "      <td>{'ImageBase': 4194304, 'SectionAlignment': 4096}</td>\n",
              "      <td>[{'Name': 'UPX0', 'VirtualAddress': '0x1000'},...</td>\n",
              "      <td>[{'DLL': 'KERNEL32.DLL', 'Functions': ['LoadLi...</td>\n",
              "    </tr>\n",
              "    <tr>\n",
              "      <th>38</th>\n",
              "      <td>K99_C3A9A7B026BFE0E55FF219FD6AA7D94</td>\n",
              "      <td>{'ImageBase': 4194304, 'SectionAlignment': 4096}</td>\n",
              "      <td>[{'Name': '.text', 'VirtualAddress': '0x1000'}...</td>\n",
              "      <td>[{'DLL': 'KERNEL32.dll', 'Functions': ['Create...</td>\n",
              "    </tr>\n",
              "  </tbody>\n",
              "</table>\n",
              "</div>\n",
              "      <button class=\"colab-df-convert\" onclick=\"convertToInteractive('df-06182801-033f-420b-bbe9-88e3c89c3ada')\"\n",
              "              title=\"Convert this dataframe to an interactive table.\"\n",
              "              style=\"display:none;\">\n",
              "        \n",
              "  <svg xmlns=\"http://www.w3.org/2000/svg\" height=\"24px\"viewBox=\"0 0 24 24\"\n",
              "       width=\"24px\">\n",
              "    <path d=\"M0 0h24v24H0V0z\" fill=\"none\"/>\n",
              "    <path d=\"M18.56 5.44l.94 2.06.94-2.06 2.06-.94-2.06-.94-.94-2.06-.94 2.06-2.06.94zm-11 1L8.5 8.5l.94-2.06 2.06-.94-2.06-.94L8.5 2.5l-.94 2.06-2.06.94zm10 10l.94 2.06.94-2.06 2.06-.94-2.06-.94-.94-2.06-.94 2.06-2.06.94z\"/><path d=\"M17.41 7.96l-1.37-1.37c-.4-.4-.92-.59-1.43-.59-.52 0-1.04.2-1.43.59L10.3 9.45l-7.72 7.72c-.78.78-.78 2.05 0 2.83L4 21.41c.39.39.9.59 1.41.59.51 0 1.02-.2 1.41-.59l7.78-7.78 2.81-2.81c.8-.78.8-2.07 0-2.86zM5.41 20L4 18.59l7.72-7.72 1.47 1.35L5.41 20z\"/>\n",
              "  </svg>\n",
              "      </button>\n",
              "      \n",
              "  <style>\n",
              "    .colab-df-container {\n",
              "      display:flex;\n",
              "      flex-wrap:wrap;\n",
              "      gap: 12px;\n",
              "    }\n",
              "\n",
              "    .colab-df-convert {\n",
              "      background-color: #E8F0FE;\n",
              "      border: none;\n",
              "      border-radius: 50%;\n",
              "      cursor: pointer;\n",
              "      display: none;\n",
              "      fill: #1967D2;\n",
              "      height: 32px;\n",
              "      padding: 0 0 0 0;\n",
              "      width: 32px;\n",
              "    }\n",
              "\n",
              "    .colab-df-convert:hover {\n",
              "      background-color: #E2EBFA;\n",
              "      box-shadow: 0px 1px 2px rgba(60, 64, 67, 0.3), 0px 1px 3px 1px rgba(60, 64, 67, 0.15);\n",
              "      fill: #174EA6;\n",
              "    }\n",
              "\n",
              "    [theme=dark] .colab-df-convert {\n",
              "      background-color: #3B4455;\n",
              "      fill: #D2E3FC;\n",
              "    }\n",
              "\n",
              "    [theme=dark] .colab-df-convert:hover {\n",
              "      background-color: #434B5C;\n",
              "      box-shadow: 0px 1px 3px 1px rgba(0, 0, 0, 0.15);\n",
              "      filter: drop-shadow(0px 1px 2px rgba(0, 0, 0, 0.3));\n",
              "      fill: #FFFFFF;\n",
              "    }\n",
              "  </style>\n",
              "\n",
              "      <script>\n",
              "        const buttonEl =\n",
              "          document.querySelector('#df-06182801-033f-420b-bbe9-88e3c89c3ada button.colab-df-convert');\n",
              "        buttonEl.style.display =\n",
              "          google.colab.kernel.accessAllowed ? 'block' : 'none';\n",
              "\n",
              "        async function convertToInteractive(key) {\n",
              "          const element = document.querySelector('#df-06182801-033f-420b-bbe9-88e3c89c3ada');\n",
              "          const dataTable =\n",
              "            await google.colab.kernel.invokeFunction('convertToInteractive',\n",
              "                                                     [key], {});\n",
              "          if (!dataTable) return;\n",
              "\n",
              "          const docLinkHtml = 'Like what you see? Visit the ' +\n",
              "            '<a target=\"_blank\" href=https://colab.research.google.com/notebooks/data_table.ipynb>data table notebook</a>'\n",
              "            + ' to learn more about interactive tables.';\n",
              "          element.innerHTML = '';\n",
              "          dataTable['output_type'] = 'display_data';\n",
              "          await google.colab.output.renderOutput(dataTable, element);\n",
              "          const docLink = document.createElement('div');\n",
              "          docLink.innerHTML = docLinkHtml;\n",
              "          element.appendChild(docLink);\n",
              "        }\n",
              "      </script>\n",
              "    </div>\n",
              "  </div>\n",
              "  "
            ]
          },
          "metadata": {},
          "execution_count": 1
        }
      ],
      "source": [
        "# Lo primero que necesitamos es crear el Dataset, pero antes de eso necesitamos primero encontrar la informacion que\n",
        "# llenara ese dataset, para eso se creo un codigo llamado \"DatasetMaker.py\", para crear el Dataset.\n",
        "\n",
        "#Ahora, con el data set creado podemos hacer lo siguiente: \n",
        "import pandas as pd\n",
        "db = pd.read_csv('dataset.csv')\n",
        "print(db.shape)\n",
        "db.sample(n=5).head()\n",
        "\n",
        "\n"
      ]
    },
    {
      "cell_type": "markdown",
      "metadata": {
        "id": "e3Q9ihpDKnRj"
      },
      "source": [
        "Como podemos ver, aca tenemos la idea de lo que contiene el data set, realmente para los fines que necesitamos, consideramos que solo necesitamos, el PEHeader y los Imports, por lo que las secciones no lo vemos con mucha utilidad, por lo que como parte del **PREPROCESAMIENTO**, nos encargaremos de elimnar esta columna del dataset"
      ]
    },
    {
      "cell_type": "code",
      "execution_count": 2,
      "metadata": {
        "colab": {
          "base_uri": "https://localhost:8080/",
          "height": 206
        },
        "id": "JIdeN2EZKnRj",
        "outputId": "41ed82df-c070-4178-d439-4c8e6f9348eb"
      },
      "outputs": [
        {
          "output_type": "execute_result",
          "data": {
            "text/plain": [
              "                                 Filename  \\\n",
              "26       F6655E39465C2FF5B016980D918EA028   \n",
              "14  B98hX8E8622C393D7E832D39E620EAD5D3B49   \n",
              "6    BVJ2D9FBF759F527AF373E34673DC3ACA462   \n",
              "28   FHHH6576C196385407B0F7F4B1B537D88983   \n",
              "24  POL55_A4F1ECC4D25B33395196B5D51A06790   \n",
              "\n",
              "                                            PEHeader  \\\n",
              "26  {'ImageBase': 4194304, 'SectionAlignment': 4096}   \n",
              "14  {'ImageBase': 4194304, 'SectionAlignment': 4096}   \n",
              "6   {'ImageBase': 4194304, 'SectionAlignment': 4096}   \n",
              "28  {'ImageBase': 4194304, 'SectionAlignment': 4096}   \n",
              "24  {'ImageBase': 4194304, 'SectionAlignment': 4096}   \n",
              "\n",
              "                                              Imports  \n",
              "26  [{'DLL': 'KERNEL32.DLL', 'Functions': ['LoadLi...  \n",
              "14  [{'DLL': 'ADVAPI32.dll', 'Functions': ['RegSav...  \n",
              "6   [{'DLL': 'KERNEL32.DLL', 'Functions': ['LoadLi...  \n",
              "28  [{'DLL': 'KERNEL32.DLL', 'Functions': ['LoadLi...  \n",
              "24  [{'DLL': 'KERNEL32.dll', 'Functions': ['Create...  "
            ],
            "text/html": [
              "\n",
              "  <div id=\"df-c4e92a64-1762-48ff-9189-f92f20a9f5c9\">\n",
              "    <div class=\"colab-df-container\">\n",
              "      <div>\n",
              "<style scoped>\n",
              "    .dataframe tbody tr th:only-of-type {\n",
              "        vertical-align: middle;\n",
              "    }\n",
              "\n",
              "    .dataframe tbody tr th {\n",
              "        vertical-align: top;\n",
              "    }\n",
              "\n",
              "    .dataframe thead th {\n",
              "        text-align: right;\n",
              "    }\n",
              "</style>\n",
              "<table border=\"1\" class=\"dataframe\">\n",
              "  <thead>\n",
              "    <tr style=\"text-align: right;\">\n",
              "      <th></th>\n",
              "      <th>Filename</th>\n",
              "      <th>PEHeader</th>\n",
              "      <th>Imports</th>\n",
              "    </tr>\n",
              "  </thead>\n",
              "  <tbody>\n",
              "    <tr>\n",
              "      <th>26</th>\n",
              "      <td>F6655E39465C2FF5B016980D918EA028</td>\n",
              "      <td>{'ImageBase': 4194304, 'SectionAlignment': 4096}</td>\n",
              "      <td>[{'DLL': 'KERNEL32.DLL', 'Functions': ['LoadLi...</td>\n",
              "    </tr>\n",
              "    <tr>\n",
              "      <th>14</th>\n",
              "      <td>B98hX8E8622C393D7E832D39E620EAD5D3B49</td>\n",
              "      <td>{'ImageBase': 4194304, 'SectionAlignment': 4096}</td>\n",
              "      <td>[{'DLL': 'ADVAPI32.dll', 'Functions': ['RegSav...</td>\n",
              "    </tr>\n",
              "    <tr>\n",
              "      <th>6</th>\n",
              "      <td>BVJ2D9FBF759F527AF373E34673DC3ACA462</td>\n",
              "      <td>{'ImageBase': 4194304, 'SectionAlignment': 4096}</td>\n",
              "      <td>[{'DLL': 'KERNEL32.DLL', 'Functions': ['LoadLi...</td>\n",
              "    </tr>\n",
              "    <tr>\n",
              "      <th>28</th>\n",
              "      <td>FHHH6576C196385407B0F7F4B1B537D88983</td>\n",
              "      <td>{'ImageBase': 4194304, 'SectionAlignment': 4096}</td>\n",
              "      <td>[{'DLL': 'KERNEL32.DLL', 'Functions': ['LoadLi...</td>\n",
              "    </tr>\n",
              "    <tr>\n",
              "      <th>24</th>\n",
              "      <td>POL55_A4F1ECC4D25B33395196B5D51A06790</td>\n",
              "      <td>{'ImageBase': 4194304, 'SectionAlignment': 4096}</td>\n",
              "      <td>[{'DLL': 'KERNEL32.dll', 'Functions': ['Create...</td>\n",
              "    </tr>\n",
              "  </tbody>\n",
              "</table>\n",
              "</div>\n",
              "      <button class=\"colab-df-convert\" onclick=\"convertToInteractive('df-c4e92a64-1762-48ff-9189-f92f20a9f5c9')\"\n",
              "              title=\"Convert this dataframe to an interactive table.\"\n",
              "              style=\"display:none;\">\n",
              "        \n",
              "  <svg xmlns=\"http://www.w3.org/2000/svg\" height=\"24px\"viewBox=\"0 0 24 24\"\n",
              "       width=\"24px\">\n",
              "    <path d=\"M0 0h24v24H0V0z\" fill=\"none\"/>\n",
              "    <path d=\"M18.56 5.44l.94 2.06.94-2.06 2.06-.94-2.06-.94-.94-2.06-.94 2.06-2.06.94zm-11 1L8.5 8.5l.94-2.06 2.06-.94-2.06-.94L8.5 2.5l-.94 2.06-2.06.94zm10 10l.94 2.06.94-2.06 2.06-.94-2.06-.94-.94-2.06-.94 2.06-2.06.94z\"/><path d=\"M17.41 7.96l-1.37-1.37c-.4-.4-.92-.59-1.43-.59-.52 0-1.04.2-1.43.59L10.3 9.45l-7.72 7.72c-.78.78-.78 2.05 0 2.83L4 21.41c.39.39.9.59 1.41.59.51 0 1.02-.2 1.41-.59l7.78-7.78 2.81-2.81c.8-.78.8-2.07 0-2.86zM5.41 20L4 18.59l7.72-7.72 1.47 1.35L5.41 20z\"/>\n",
              "  </svg>\n",
              "      </button>\n",
              "      \n",
              "  <style>\n",
              "    .colab-df-container {\n",
              "      display:flex;\n",
              "      flex-wrap:wrap;\n",
              "      gap: 12px;\n",
              "    }\n",
              "\n",
              "    .colab-df-convert {\n",
              "      background-color: #E8F0FE;\n",
              "      border: none;\n",
              "      border-radius: 50%;\n",
              "      cursor: pointer;\n",
              "      display: none;\n",
              "      fill: #1967D2;\n",
              "      height: 32px;\n",
              "      padding: 0 0 0 0;\n",
              "      width: 32px;\n",
              "    }\n",
              "\n",
              "    .colab-df-convert:hover {\n",
              "      background-color: #E2EBFA;\n",
              "      box-shadow: 0px 1px 2px rgba(60, 64, 67, 0.3), 0px 1px 3px 1px rgba(60, 64, 67, 0.15);\n",
              "      fill: #174EA6;\n",
              "    }\n",
              "\n",
              "    [theme=dark] .colab-df-convert {\n",
              "      background-color: #3B4455;\n",
              "      fill: #D2E3FC;\n",
              "    }\n",
              "\n",
              "    [theme=dark] .colab-df-convert:hover {\n",
              "      background-color: #434B5C;\n",
              "      box-shadow: 0px 1px 3px 1px rgba(0, 0, 0, 0.15);\n",
              "      filter: drop-shadow(0px 1px 2px rgba(0, 0, 0, 0.3));\n",
              "      fill: #FFFFFF;\n",
              "    }\n",
              "  </style>\n",
              "\n",
              "      <script>\n",
              "        const buttonEl =\n",
              "          document.querySelector('#df-c4e92a64-1762-48ff-9189-f92f20a9f5c9 button.colab-df-convert');\n",
              "        buttonEl.style.display =\n",
              "          google.colab.kernel.accessAllowed ? 'block' : 'none';\n",
              "\n",
              "        async function convertToInteractive(key) {\n",
              "          const element = document.querySelector('#df-c4e92a64-1762-48ff-9189-f92f20a9f5c9');\n",
              "          const dataTable =\n",
              "            await google.colab.kernel.invokeFunction('convertToInteractive',\n",
              "                                                     [key], {});\n",
              "          if (!dataTable) return;\n",
              "\n",
              "          const docLinkHtml = 'Like what you see? Visit the ' +\n",
              "            '<a target=\"_blank\" href=https://colab.research.google.com/notebooks/data_table.ipynb>data table notebook</a>'\n",
              "            + ' to learn more about interactive tables.';\n",
              "          element.innerHTML = '';\n",
              "          dataTable['output_type'] = 'display_data';\n",
              "          await google.colab.output.renderOutput(dataTable, element);\n",
              "          const docLink = document.createElement('div');\n",
              "          docLink.innerHTML = docLinkHtml;\n",
              "          element.appendChild(docLink);\n",
              "        }\n",
              "      </script>\n",
              "    </div>\n",
              "  </div>\n",
              "  "
            ]
          },
          "metadata": {},
          "execution_count": 2
        }
      ],
      "source": [
        "# Eliminamos la que consideramos innecesaria \n",
        "db = db.drop(['Sections'], axis=1)\n",
        "# y vemos lo que nos queda restante\n",
        "db.sample(n=5).head()"
      ]
    },
    {
      "cell_type": "markdown",
      "metadata": {
        "id": "5KHkp9PHKnRj"
      },
      "source": [
        "### Parte #2\n",
        "##### Implementacion del Algoritmo"
      ]
    },
    {
      "cell_type": "code",
      "source": [
        "import pandas as pd\n",
        "import numpy as np\n",
        "import matplotlib.pyplot as plt\n",
        "from sklearn.cluster import KMeans"
      ],
      "metadata": {
        "id": "AVhgkb-XKsAH"
      },
      "execution_count": 16,
      "outputs": []
    },
    {
      "cell_type": "code",
      "source": [
        "data = pd.read_csv('completemalware.csv')"
      ],
      "metadata": {
        "id": "aG54gJvbZ0jM"
      },
      "execution_count": 17,
      "outputs": []
    },
    {
      "cell_type": "code",
      "source": [
        "data = data.drop(['name'], axis=1)"
      ],
      "metadata": {
        "id": "4sk0uV0fahg9"
      },
      "execution_count": 21,
      "outputs": []
    },
    {
      "cell_type": "code",
      "source": [
        "sse = []\n",
        "for k in range(1, 11):\n",
        "    kmeans = KMeans(n_clusters=k, init='k-means++', max_iter=300, n_init=10, random_state=0)\n",
        "    kmeans.fit(data)\n",
        "    sse.append(kmeans.inertia_)\n",
        "\n",
        "plt.plot(range(1, 11), sse)\n",
        "plt.title('Método del codo')\n",
        "plt.xlabel('Número de clústeres')\n",
        "plt.ylabel('SSE')\n",
        "plt.show()"
      ],
      "metadata": {
        "colab": {
          "base_uri": "https://localhost:8080/",
          "height": 295
        },
        "id": "N_snLhuNKyqz",
        "outputId": "3e40f977-8db5-4f38-eefb-d6132e743dc8"
      },
      "execution_count": 22,
      "outputs": [
        {
          "output_type": "display_data",
          "data": {
            "text/plain": [
              "<Figure size 432x288 with 1 Axes>"
            ],
            "image/png": "[encoded data removed]"
          },
          "metadata": {
            "needs_background": "light"
          }
        }
      ]
    },
    {
      "cell_type": "markdown",
      "source": [
        "En la gráfica del método del codo, se muestra en el eje y, mientras que el número de clústeres se muestra en el eje x. En la medida en que aumentamos el número de clústeres, es de esperar que SSE disminuya. Sin embargo, a medida que el número de clústeres aumenta, la tasa de disminución de SSE también disminuirá. El punto de inflexión o \"codo\" en la curva representa el número óptimo de clústeres, ya que representa el punto donde agregar más clústeres no mejora significativamente la calidad del modelo."
      ],
      "metadata": {
        "id": "FsQ2c3dKa9wH"
      }
    },
    {
      "cell_type": "code",
      "source": [
        "from sklearn.metrics import silhouette_score\n",
        "import matplotlib.pyplot as plt\n"
      ],
      "metadata": {
        "id": "U-K0rD_ubBBy"
      },
      "execution_count": 23,
      "outputs": []
    },
    {
      "cell_type": "code",
      "source": [
        "# Crear una lista para almacenar los valores de coeficiente de Silhouette\n",
        "silhouette_scores = []"
      ],
      "metadata": {
        "id": "0EZz-Ne7bhWR"
      },
      "execution_count": 24,
      "outputs": []
    },
    {
      "cell_type": "code",
      "source": [
        "sse = []"
      ],
      "metadata": {
        "id": "Q1S8z8Q7bkom"
      },
      "execution_count": 25,
      "outputs": []
    },
    {
      "cell_type": "code",
      "source": [
        "# Definir el rango de valores de K\n",
        "range_n_clusters = range(2,11)"
      ],
      "metadata": {
        "id": "7qFsIwRsboeO"
      },
      "execution_count": 26,
      "outputs": []
    },
    {
      "cell_type": "code",
      "source": [
        "# Calcular el coeficiente de Silhouette para diferentes valores de K\n",
        "for n_clusters in range_n_clusters:\n",
        "    kmeans = KMeans(n_clusters=n_clusters, init='k-means++', max_iter=300, n_init=10, random_state=0)\n",
        "    cluster_labels = kmeans.fit_predict(data)\n",
        "    silhouette_avg = silhouette_score(data, cluster_labels)\n",
        "    silhouette_scores.append(silhouette_avg)\n",
        "    sse.append(kmeans.inertia_)"
      ],
      "metadata": {
        "id": "fJJV1wtpbrtV"
      },
      "execution_count": 27,
      "outputs": []
    },
    {
      "cell_type": "code",
      "source": [
        "# Graficar el coeficiente de Silhouette en función del número de clústeres\n",
        "plt.plot(range_n_clusters, silhouette_scores, 'bx-')\n",
        "plt.xlabel('Número de clústeres')\n",
        "plt.ylabel('Coeficiente de Silhouette')\n",
        "plt.title('Coeficiente de Silhouette para valores de K')\n",
        "plt.show()"
      ],
      "metadata": {
        "colab": {
          "base_uri": "https://localhost:8080/",
          "height": 295
        },
        "id": "cXfTf6vebu_I",
        "outputId": "35af1d57-4990-473a-e51d-7e0adb86b8ac"
      },
      "execution_count": 28,
      "outputs": [
        {
          "output_type": "display_data",
          "data": {
            "text/plain": [
              "<Figure size 432x288 with 1 Axes>"
            ],
            "image/png": "[encoded data removed]"
          },
          "metadata": {
            "needs_background": "light"
          }
        }
      ]
    },
    {
      "cell_type": "code",
      "source": [
        "# Entrenar el modelo de K-means con el número óptimo de clústeres encontrado\n",
        "kmeans = KMeans(n_clusters=2, init='k-means++', max_iter=300, n_init=10, random_state=0)\n",
        "kmeans.fit(data)"
      ],
      "metadata": {
        "colab": {
          "base_uri": "https://localhost:8080/",
          "height": 75
        },
        "id": "ULSJgzw0b9rk",
        "outputId": "802cff8e-bf79-4b18-f968-af5b73088243"
      },
      "execution_count": 30,
      "outputs": [
        {
          "output_type": "execute_result",
          "data": {
            "text/plain": [
              "KMeans(n_clusters=2, n_init=10, random_state=0)"
            ],
            "text/html": [
              "<style>#sk-container-id-1 {color: black;background-color: white;}#sk-container-id-1 pre{padding: 0;}#sk-container-id-1 div.sk-toggleable {background-color: white;}#sk-container-id-1 label.sk-toggleable__label {cursor: pointer;display: block;width: 100%;margin-bottom: 0;padding: 0.3em;box-sizing: border-box;text-align: center;}#sk-container-id-1 label.sk-toggleable__label-arrow:before {content: \"▸\";float: left;margin-right: 0.25em;color: #696969;}#sk-container-id-1 label.sk-toggleable__label-arrow:hover:before {color: black;}#sk-container-id-1 div.sk-estimator:hover label.sk-toggleable__label-arrow:before {color: black;}#sk-container-id-1 div.sk-toggleable__content {max-height: 0;max-width: 0;overflow: hidden;text-align: left;background-color: #f0f8ff;}#sk-container-id-1 div.sk-toggleable__content pre {margin: 0.2em;color: black;border-radius: 0.25em;background-color: #f0f8ff;}#sk-container-id-1 input.sk-toggleable__control:checked~div.sk-toggleable__content {max-height: 200px;max-width: 100%;overflow: auto;}#sk-container-id-1 input.sk-toggleable__control:checked~label.sk-toggleable__label-arrow:before {content: \"▾\";}#sk-container-id-1 div.sk-estimator input.sk-toggleable__control:checked~label.sk-toggleable__label {background-color: #d4ebff;}#sk-container-id-1 div.sk-label input.sk-toggleable__control:checked~label.sk-toggleable__label {background-color: #d4ebff;}#sk-container-id-1 input.sk-hidden--visually {border: 0;clip: rect(1px 1px 1px 1px);clip: rect(1px, 1px, 1px, 1px);height: 1px;margin: -1px;overflow: hidden;padding: 0;position: absolute;width: 1px;}#sk-container-id-1 div.sk-estimator {font-family: monospace;background-color: #f0f8ff;border: 1px dotted black;border-radius: 0.25em;box-sizing: border-box;margin-bottom: 0.5em;}#sk-container-id-1 div.sk-estimator:hover {background-color: #d4ebff;}#sk-container-id-1 div.sk-parallel-item::after {content: \"\";width: 100%;border-bottom: 1px solid gray;flex-grow: 1;}#sk-container-id-1 div.sk-label:hover label.sk-toggleable__label {background-color: #d4ebff;}#sk-container-id-1 div.sk-serial::before {content: \"\";position: absolute;border-left: 1px solid gray;box-sizing: border-box;top: 0;bottom: 0;left: 50%;z-index: 0;}#sk-container-id-1 div.sk-serial {display: flex;flex-direction: column;align-items: center;background-color: white;padding-right: 0.2em;padding-left: 0.2em;position: relative;}#sk-container-id-1 div.sk-item {position: relative;z-index: 1;}#sk-container-id-1 div.sk-parallel {display: flex;align-items: stretch;justify-content: center;background-color: white;position: relative;}#sk-container-id-1 div.sk-item::before, #sk-container-id-1 div.sk-parallel-item::before {content: \"\";position: absolute;border-left: 1px solid gray;box-sizing: border-box;top: 0;bottom: 0;left: 50%;z-index: -1;}#sk-container-id-1 div.sk-parallel-item {display: flex;flex-direction: column;z-index: 1;position: relative;background-color: white;}#sk-container-id-1 div.sk-parallel-item:first-child::after {align-self: flex-end;width: 50%;}#sk-container-id-1 div.sk-parallel-item:last-child::after {align-self: flex-start;width: 50%;}#sk-container-id-1 div.sk-parallel-item:only-child::after {width: 0;}#sk-container-id-1 div.sk-dashed-wrapped {border: 1px dashed gray;margin: 0 0.4em 0.5em 0.4em;box-sizing: border-box;padding-bottom: 0.4em;background-color: white;}#sk-container-id-1 div.sk-label label {font-family: monospace;font-weight: bold;display: inline-block;line-height: 1.2em;}#sk-container-id-1 div.sk-label-container {text-align: center;}#sk-container-id-1 div.sk-container {/* jupyter's `normalize.less` sets `[hidden] { display: none; }` but bootstrap.min.css set `[hidden] { display: none !important; }` so we also need the `!important` here to be able to override the default hidden behavior on the sphinx rendered scikit-learn.org. See: https://github.com/scikit-learn/scikit-learn/issues/21755 */display: inline-block !important;position: relative;}#sk-container-id-1 div.sk-text-repr-fallback {display: none;}</style><div id=\"sk-container-id-1\" class=\"sk-top-container\"><div class=\"sk-text-repr-fallback\"><pre>KMeans(n_clusters=2, n_init=10, random_state=0)</pre><b>In a Jupyter environment, please rerun this cell to show the HTML representation or trust the notebook. <br />On GitHub, the HTML representation is unable to render, please try loading this page with nbviewer.org.</b></div><div class=\"sk-container\" hidden><div class=\"sk-item\"><div class=\"sk-estimator sk-toggleable\"><input class=\"sk-toggleable__control sk-hidden--visually\" id=\"sk-estimator-id-1\" type=\"checkbox\" checked><label for=\"sk-estimator-id-1\" class=\"sk-toggleable__label sk-toggleable__label-arrow\">KMeans</label><div class=\"sk-toggleable__content\"><pre>KMeans(n_clusters=2, n_init=10, random_state=0)</pre></div></div></div></div></div>"
            ]
          },
          "metadata": {},
          "execution_count": 30
        }
      ]
    },
    {
      "cell_type": "code",
      "source": [
        "# Obtener las etiquetas de clúster para cada observación\n",
        "cluster_labels = kmeans.predict(data)"
      ],
      "metadata": {
        "id": "5eN0l043cpia"
      },
      "execution_count": 31,
      "outputs": []
    },
    {
      "cell_type": "code",
      "source": [
        "# Añadir las etiquetas de clúster al DataFrame original\n",
        "data_labeled = data.copy()\n",
        "data_labeled['Cluster'] = cluster_labels"
      ],
      "metadata": {
        "id": "ZQRsiJgqcsGS"
      },
      "execution_count": 32,
      "outputs": []
    },
    {
      "cell_type": "markdown",
      "source": [
        "### Conclusiones: \n",
        "#### ¿Para qué número de clústeres se obtiene el coeficiente de Silhouette más alto?\n",
        "**En nuestro caso con 2 clusteres se encuentra el coeficiente de Silhouette mas alto.**\n",
        "####¿Coincide el coeficiente de Silhouette con el método del codo?\n",
        "**Si coincide con el segundo cluster**\n",
        "####¿Cuántas familias existen entre los ejemplares de malware proporcionados?\n",
        "**10**\n",
        "####¿Coincide el índice de Jaccard con las familias encontradas?\n",
        "**Si**"
      ],
      "metadata": {
        "id": "gB8wNrjPdLAn"
      }
    }
  ],
  "metadata": {
    "kernelspec": {
      "display_name": "Python 3",
      "language": "python",
      "name": "python3"
    },
    "language_info": {
      "codemirror_mode": {
        "name": "ipython",
        "version": 3
      },
      "file_extension": ".py",
      "mimetype": "text/x-python",
      "name": "python",
      "nbconvert_exporter": "python",
      "pygments_lexer": "ipython3",
      "version": "3.10.6"
    },
    "orig_nbformat": 4,
    "colab": {
      "provenance": []
    }
  },
  "nbformat": 4,
  "nbformat_minor": 0
}