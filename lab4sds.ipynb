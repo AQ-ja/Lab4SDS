{
 "cells": [
  {
   "attachments": {},
   "cell_type": "markdown",
   "metadata": {},
   "source": [
    "# FAMILIAS DE MALWARE\n",
    "Alfredo Quezada - 191002\n",
    "Randy Venegas - \n",
    "\n",
    "La primera parte de este laboratorio se basa en el analisis y creacion de un dataset que cuente con los datos obtenido por parte de los Malwares. \n",
    "\n",
    "### Parte 1:\n",
    "##### Creacion del Dataset\n"
   ]
  },
  {
   "cell_type": "code",
   "execution_count": 9,
   "metadata": {},
   "outputs": [
    {
     "name": "stdout",
     "output_type": "stream",
     "text": [
      "(40, 4)\n"
     ]
    },
    {
     "data": {
      "text/html": [
       "<div>\n",
       "<style scoped>\n",
       "    .dataframe tbody tr th:only-of-type {\n",
       "        vertical-align: middle;\n",
       "    }\n",
       "\n",
       "    .dataframe tbody tr th {\n",
       "        vertical-align: top;\n",
       "    }\n",
       "\n",
       "    .dataframe thead th {\n",
       "        text-align: right;\n",
       "    }\n",
       "</style>\n",
       "<table border=\"1\" class=\"dataframe\">\n",
       "  <thead>\n",
       "    <tr style=\"text-align: right;\">\n",
       "      <th></th>\n",
       "      <th>Filename</th>\n",
       "      <th>PEHeader</th>\n",
       "      <th>Sections</th>\n",
       "      <th>Imports</th>\n",
       "    </tr>\n",
       "  </thead>\n",
       "  <tbody>\n",
       "    <tr>\n",
       "      <th>5</th>\n",
       "      <td>RTC_7F85D7F628CE62D1D8F7B39D8940472</td>\n",
       "      <td>{'ImageBase': 4194304, 'SectionAlignment': 4096}</td>\n",
       "      <td>[{'Name': 'UPX0', 'VirtualAddress': '0x1000'},...</td>\n",
       "      <td>[{'DLL': 'KERNEL32.DLL', 'Functions': ['LoadLi...</td>\n",
       "    </tr>\n",
       "    <tr>\n",
       "      <th>1</th>\n",
       "      <td>AAAz2E1B6940985A23E5639450F8391820655</td>\n",
       "      <td>{'ImageBase': 268435456, 'SectionAlignment': 4...</td>\n",
       "      <td>[{'Name': 'UPX0', 'VirtualAddress': '0x1000'},...</td>\n",
       "      <td>[{'DLL': 'ADVAPI32.dll', 'Functions': ['RegSav...</td>\n",
       "    </tr>\n",
       "    <tr>\n",
       "      <th>32</th>\n",
       "      <td>JH78C0A33A1B472A8C16123FD696A5CE5EBB</td>\n",
       "      <td>{'ImageBase': 4194304, 'SectionAlignment': 4096}</td>\n",
       "      <td>[{'Name': 'UPX0', 'VirtualAddress': '0x1000'},...</td>\n",
       "      <td>[{'DLL': 'KERNEL32.DLL', 'Functions': ['LoadLi...</td>\n",
       "    </tr>\n",
       "    <tr>\n",
       "      <th>19</th>\n",
       "      <td>FTTR9EA3C16194CE354C244C1B74C46CD92E</td>\n",
       "      <td>{'ImageBase': 4194304, 'SectionAlignment': 4096}</td>\n",
       "      <td>[{'Name': 'UPX0', 'VirtualAddress': '0x1000'},...</td>\n",
       "      <td>[{'DLL': 'KERNEL32.DLL', 'Functions': ['LoadLi...</td>\n",
       "    </tr>\n",
       "    <tr>\n",
       "      <th>31</th>\n",
       "      <td>33DE5067A433A6EC5C328067DC18EC37</td>\n",
       "      <td>{'ImageBase': 4194304, 'SectionAlignment': 4096}</td>\n",
       "      <td>[{'Name': 'UPX0', 'VirtualAddress': '0x1000'},...</td>\n",
       "      <td>[{'DLL': 'KERNEL32.DLL', 'Functions': ['LoadLi...</td>\n",
       "    </tr>\n",
       "  </tbody>\n",
       "</table>\n",
       "</div>"
      ],
      "text/plain": [
       "                                 Filename  \\\n",
       "5     RTC_7F85D7F628CE62D1D8F7B39D8940472   \n",
       "1   AAAz2E1B6940985A23E5639450F8391820655   \n",
       "32   JH78C0A33A1B472A8C16123FD696A5CE5EBB   \n",
       "19   FTTR9EA3C16194CE354C244C1B74C46CD92E   \n",
       "31       33DE5067A433A6EC5C328067DC18EC37   \n",
       "\n",
       "                                             PEHeader  \\\n",
       "5    {'ImageBase': 4194304, 'SectionAlignment': 4096}   \n",
       "1   {'ImageBase': 268435456, 'SectionAlignment': 4...   \n",
       "32   {'ImageBase': 4194304, 'SectionAlignment': 4096}   \n",
       "19   {'ImageBase': 4194304, 'SectionAlignment': 4096}   \n",
       "31   {'ImageBase': 4194304, 'SectionAlignment': 4096}   \n",
       "\n",
       "                                             Sections  \\\n",
       "5   [{'Name': 'UPX0', 'VirtualAddress': '0x1000'},...   \n",
       "1   [{'Name': 'UPX0', 'VirtualAddress': '0x1000'},...   \n",
       "32  [{'Name': 'UPX0', 'VirtualAddress': '0x1000'},...   \n",
       "19  [{'Name': 'UPX0', 'VirtualAddress': '0x1000'},...   \n",
       "31  [{'Name': 'UPX0', 'VirtualAddress': '0x1000'},...   \n",
       "\n",
       "                                              Imports  \n",
       "5   [{'DLL': 'KERNEL32.DLL', 'Functions': ['LoadLi...  \n",
       "1   [{'DLL': 'ADVAPI32.dll', 'Functions': ['RegSav...  \n",
       "32  [{'DLL': 'KERNEL32.DLL', 'Functions': ['LoadLi...  \n",
       "19  [{'DLL': 'KERNEL32.DLL', 'Functions': ['LoadLi...  \n",
       "31  [{'DLL': 'KERNEL32.DLL', 'Functions': ['LoadLi...  "
      ]
     },
     "execution_count": 9,
     "metadata": {},
     "output_type": "execute_result"
    }
   ],
   "source": [
    "# Lo primero que necesitamos es crear el Dataset, pero antes de eso necesitamos primero encontrar la informacion que\n",
    "# llenara ese dataset, para eso se creo un codigo llamado \"DatasetMaker.py\", para crear el Dataset.\n",
    "\n",
    "#Ahora, con el data set creado podemos hacer lo siguiente: \n",
    "import pandas as pd\n",
    "db = pd.read_csv('dataset.csv')\n",
    "print(db.shape)\n",
    "db.sample(n=5).head()\n",
    "\n",
    "\n"
   ]
  },
  {
   "attachments": {},
   "cell_type": "markdown",
   "metadata": {},
   "source": [
    "Como podemos ver, aca tenemos la idea de lo que contiene el data set, realmente para los fines que necesitamos, consideramos que solo necesitamos, el PEHeader y los Imports, por lo que las secciones no lo vemos con mucha utilidad, por lo que como parte del **PREPROCESAMIENTO**, nos encargaremos de elimnar esta columna del dataset"
   ]
  },
  {
   "cell_type": "code",
   "execution_count": 10,
   "metadata": {},
   "outputs": [
    {
     "data": {
      "text/html": [
       "<div>\n",
       "<style scoped>\n",
       "    .dataframe tbody tr th:only-of-type {\n",
       "        vertical-align: middle;\n",
       "    }\n",
       "\n",
       "    .dataframe tbody tr th {\n",
       "        vertical-align: top;\n",
       "    }\n",
       "\n",
       "    .dataframe thead th {\n",
       "        text-align: right;\n",
       "    }\n",
       "</style>\n",
       "<table border=\"1\" class=\"dataframe\">\n",
       "  <thead>\n",
       "    <tr style=\"text-align: right;\">\n",
       "      <th></th>\n",
       "      <th>Filename</th>\n",
       "      <th>PEHeader</th>\n",
       "      <th>Imports</th>\n",
       "    </tr>\n",
       "  </thead>\n",
       "  <tbody>\n",
       "    <tr>\n",
       "      <th>39</th>\n",
       "      <td>GFT4_7DDD3D72EAD03C7518F5D47650C8572</td>\n",
       "      <td>{'ImageBase': 4194304, 'SectionAlignment': 4096}</td>\n",
       "      <td>[{'DLL': 'KERNEL32.dll', 'Functions': ['GetMod...</td>\n",
       "    </tr>\n",
       "    <tr>\n",
       "      <th>10</th>\n",
       "      <td>L11_1415EB8519D13328091CC5C76A624E3D</td>\n",
       "      <td>{'ImageBase': 4194304, 'SectionAlignment': 4096}</td>\n",
       "      <td>[{'DLL': 'KERNEL32.DLL', 'Functions': ['LoadLi...</td>\n",
       "    </tr>\n",
       "    <tr>\n",
       "      <th>16</th>\n",
       "      <td>99A39866A657A10949FCB6D634BB30D5</td>\n",
       "      <td>{'ImageBase': 4194304, 'SectionAlignment': 4096}</td>\n",
       "      <td>[{'DLL': 'KERNEL32.DLL', 'Functions': ['LoadLi...</td>\n",
       "    </tr>\n",
       "    <tr>\n",
       "      <th>0</th>\n",
       "      <td>AL65_DB05DF0498B59B42A8E493CF3C10C578</td>\n",
       "      <td>{'ImageBase': 268435456, 'SectionAlignment': 4...</td>\n",
       "      <td>[{'DLL': 'ADVAPI32.dll', 'Functions': ['RegSav...</td>\n",
       "    </tr>\n",
       "    <tr>\n",
       "      <th>29</th>\n",
       "      <td>B07322743778B5868475DBE66EEDAC4F</td>\n",
       "      <td>{'ImageBase': 4194304, 'SectionAlignment': 4096}</td>\n",
       "      <td>[{'DLL': 'KERNEL32.DLL', 'Functions': ['LoadLi...</td>\n",
       "    </tr>\n",
       "  </tbody>\n",
       "</table>\n",
       "</div>"
      ],
      "text/plain": [
       "                                 Filename  \\\n",
       "39   GFT4_7DDD3D72EAD03C7518F5D47650C8572   \n",
       "10   L11_1415EB8519D13328091CC5C76A624E3D   \n",
       "16       99A39866A657A10949FCB6D634BB30D5   \n",
       "0   AL65_DB05DF0498B59B42A8E493CF3C10C578   \n",
       "29       B07322743778B5868475DBE66EEDAC4F   \n",
       "\n",
       "                                             PEHeader  \\\n",
       "39   {'ImageBase': 4194304, 'SectionAlignment': 4096}   \n",
       "10   {'ImageBase': 4194304, 'SectionAlignment': 4096}   \n",
       "16   {'ImageBase': 4194304, 'SectionAlignment': 4096}   \n",
       "0   {'ImageBase': 268435456, 'SectionAlignment': 4...   \n",
       "29   {'ImageBase': 4194304, 'SectionAlignment': 4096}   \n",
       "\n",
       "                                              Imports  \n",
       "39  [{'DLL': 'KERNEL32.dll', 'Functions': ['GetMod...  \n",
       "10  [{'DLL': 'KERNEL32.DLL', 'Functions': ['LoadLi...  \n",
       "16  [{'DLL': 'KERNEL32.DLL', 'Functions': ['LoadLi...  \n",
       "0   [{'DLL': 'ADVAPI32.dll', 'Functions': ['RegSav...  \n",
       "29  [{'DLL': 'KERNEL32.DLL', 'Functions': ['LoadLi...  "
      ]
     },
     "execution_count": 10,
     "metadata": {},
     "output_type": "execute_result"
    }
   ],
   "source": [
    "# Eliminamos la que consideramos innecesaria \n",
    "db = db.drop(['Sections'], axis=1)\n",
    "# y vemos lo que nos queda restante\n",
    "db.sample(n=5).head()"
   ]
  },
  {
   "attachments": {},
   "cell_type": "markdown",
   "metadata": {},
   "source": [
    "### Parte #2\n",
    "##### Implementacion del Algoritmo"
   ]
  }
 ],
 "metadata": {
  "kernelspec": {
   "display_name": "Python 3",
   "language": "python",
   "name": "python3"
  },
  "language_info": {
   "codemirror_mode": {
    "name": "ipython",
    "version": 3
   },
   "file_extension": ".py",
   "mimetype": "text/x-python",
   "name": "python",
   "nbconvert_exporter": "python",
   "pygments_lexer": "ipython3",
   "version": "3.10.6"
  },
  "orig_nbformat": 4
 },
 "nbformat": 4,
 "nbformat_minor": 2
}
